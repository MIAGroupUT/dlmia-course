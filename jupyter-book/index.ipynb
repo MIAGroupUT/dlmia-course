{
 "cells": [
  {
   "cell_type": "markdown",
   "id": "ebcf4dda-403d-4b05-bb2d-e022739537d7",
   "metadata": {
    "user_expressions": []
   },
   "source": [
    "# Welcome\n",
    "This Jupyter book contains notebooks for the MSc course *Deep learning in 3D medical image analysis* taught at the University of Twente."
   ]
  },
  {
   "cell_type": "code",
   "execution_count": null,
   "id": "e821b03b-c7d5-4059-8721-7ebf96252ccf",
   "metadata": {},
   "outputs": [],
   "source": []
  }
 ],
 "metadata": {
  "kernelspec": {
   "display_name": "Python 3 (ipykernel)",
   "language": "python",
   "name": "python3"
  },
  "language_info": {
   "codemirror_mode": {
    "name": "ipython",
    "version": 3
   },
   "file_extension": ".py",
   "mimetype": "text/x-python",
   "name": "python",
   "nbconvert_exporter": "python",
   "pygments_lexer": "ipython3",
   "version": "3.7.16"
  }
 },
 "nbformat": 4,
 "nbformat_minor": 5
}
