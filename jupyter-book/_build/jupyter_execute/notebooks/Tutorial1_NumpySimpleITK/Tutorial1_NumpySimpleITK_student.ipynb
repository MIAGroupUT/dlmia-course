{
 "cells": [
  {
   "cell_type": "markdown",
   "id": "f7d354e3",
   "metadata": {
    "pycharm": {
     "name": "#%% md\n"
    },
    "user_expressions": []
   },
   "source": [
    "# Tutorial 1\n",
    "## May 2, 2024\n",
    "\n",
    "Throughout the course, you will be doing a lot of Python programming and working with medical images. That's why we have included this tutorial to get you started. \n",
    "\n",
    "<!-- In the past two lectures, we have looked at medical images, filters, neural networks, and convolutional neural networks. The purpose of this tutorial is to put the concepts that you have learned into practice and to get you acquainted with medical image formats and several useful Python packages to manipulate medical images. Moreover, you will get to train your first neural network for image analysis. -->\n",
    "\n",
    "### Notebooks\n",
    "What you are looking at right now is called a Jupyter notebook. We will use these for all tutorials in the course. A notebook is a mixture of Markdown cells (with code and figures) and code cells. There is a Python kernel running in the background that can execute your code cells, and keeps track of your variables. This is a bit like a workspace in Matlab. To run a cell, you simply put the cursor in the cell and press <kbd>Shift</kbd> + <kbd>Enter</kbd>. For example, you can run the following cell, and (if all is well) the answer should appear below."
   ]
  },
  {
   "cell_type": "code",
   "execution_count": 1,
   "id": "afd9c6d6",
   "metadata": {
    "pycharm": {
     "name": "#%%\n"
    }
   },
   "outputs": [
    {
     "data": {
      "text/plain": [
       "2"
      ]
     },
     "execution_count": 1,
     "metadata": {},
     "output_type": "execute_result"
    }
   ],
   "source": [
    "1+1"
   ]
  },
  {
   "cell_type": "markdown",
   "id": "6e94d70d",
   "metadata": {
    "pycharm": {
     "name": "#%% md\n"
    },
    "user_expressions": []
   },
   "source": [
    "Given that you are now looking at the notebook, we can assume that you have figured out how to run a Jupyter notebook. Note that there are multiple ways in which you can run a Jupyter notebook.\n",
    "- You can install a Python distribution like [Anaconda](https://www.anaconda.com/products/distribution) locally on your own computer and use [JupyterLab](https://jupyter.org/) to open this notebook in your browser. \n",
    "- You can use [Google Colab](https://colab.research.google.com) to run your notebook in the cloud, attached to your Google account.\n",
    "- A (preferred) alternative to Google Colab is to run the notebook on the [UT JupyterLab](https://jupyter.utwente.nl/). Here, you can log in with your s-number and you get your own hosted Jupyter environment.\n",
    "- You can run a notebook in an IDE like Visual Studio Code.\n",
    "\n",
    "\n",
    "Throughout the tutorials, there are questions, which we indicate with ❓, and programming exercises, which we indicate with ⌨️. "
   ]
  },
  {
   "cell_type": "markdown",
   "id": "937a7c9c",
   "metadata": {
    "user_expressions": []
   },
   "source": [
    "# Python essentials\n",
    "For the tutorials, we assume that you have some familiarity with Python and its syntax. If not, there are plenty of resources available online. If you're an avid MATLAB user taking your first steps in Python, [this resource](https://numpy.org/doc/stable/user/numpy-for-matlab-users.html) might be useful. \n",
    "\n",
    "However, to help you out a bit, we here give a brief introduction to some Python essentials.\n",
    "\n",
    "## Variables\n",
    "Like in any programming language, we can store values in containers, which we call variables. For example, we can assign the value `5` to variable `a`:"
   ]
  },
  {
   "cell_type": "code",
   "execution_count": 2,
   "id": "5aae0891",
   "metadata": {},
   "outputs": [],
   "source": [
    "a = 5"
   ]
  },
  {
   "cell_type": "markdown",
   "id": "fb6d2fff",
   "metadata": {
    "user_expressions": []
   },
   "source": [
    "Variables can represent a number, a letter, a string, or anything else. "
   ]
  },
  {
   "cell_type": "code",
   "execution_count": 3,
   "id": "9ff5ef9c",
   "metadata": {},
   "outputs": [],
   "source": [
    "b = 2.3\n",
    "course = 'DLMIA'\n",
    "year = 2023\n",
    "letter = 'g'"
   ]
  },
  {
   "cell_type": "markdown",
   "id": "14640529",
   "metadata": {
    "user_expressions": []
   },
   "source": [
    "You can do anything you want with these variables. For example, you can add two variables to make a new variable"
   ]
  },
  {
   "cell_type": "code",
   "execution_count": 4,
   "id": "37c9bf32",
   "metadata": {},
   "outputs": [],
   "source": [
    "c = a + b"
   ]
  },
  {
   "cell_type": "markdown",
   "id": "5c5c3803",
   "metadata": {
    "user_expressions": []
   },
   "source": [
    "Run the cell below to check what the current value of `c` is"
   ]
  },
  {
   "cell_type": "code",
   "execution_count": 5,
   "id": "eca416b3",
   "metadata": {},
   "outputs": [
    {
     "data": {
      "text/plain": [
       "7.3"
      ]
     },
     "execution_count": 5,
     "metadata": {},
     "output_type": "execute_result"
    }
   ],
   "source": [
    "c"
   ]
  },
  {
   "cell_type": "markdown",
   "id": "d4fdca32",
   "metadata": {
    "user_expressions": []
   },
   "source": [
    "Python does not require you to explicitly declare the type of a variable. However, under the hood, variables do have a type. If you want to work with variables, be aware that they have to be of the same type."
   ]
  },
  {
   "cell_type": "markdown",
   "id": "5e1c6ec7",
   "metadata": {
    "user_expressions": []
   },
   "source": [
    ":::{admonition} Exercise\n",
    ":class: tip\n",
    "What happens if you try to add variables `c` and `code`. Do you understand what it says in the output?\n",
    ":::"
   ]
  },
  {
   "cell_type": "markdown",
   "id": "e4157385",
   "metadata": {
    "user_expressions": []
   },
   "source": [
    "If you are not sure which type a variable has, you can always check it using `type`, as below."
   ]
  },
  {
   "cell_type": "code",
   "execution_count": 6,
   "id": "1ed0ae61",
   "metadata": {},
   "outputs": [
    {
     "data": {
      "text/plain": [
       "float"
      ]
     },
     "execution_count": 6,
     "metadata": {},
     "output_type": "execute_result"
    }
   ],
   "source": [
    "type(b)"
   ]
  },
  {
   "cell_type": "markdown",
   "id": "9ff46942",
   "metadata": {
    "user_expressions": []
   },
   "source": [
    "A `float` is one way to represent numbers. Floats have decimals, and hence, Python automatically turns your variable `b` with value 2.3 into a float."
   ]
  },
  {
   "cell_type": "markdown",
   "id": "b0b6d568",
   "metadata": {
    "user_expressions": []
   },
   "source": [
    ":::{admonition} Exercise\n",
    ":class: tip\n",
    "What is the type of the variable `year`?\n",
    ":::"
   ]
  },
  {
   "cell_type": "code",
   "execution_count": null,
   "id": "0bded19a",
   "metadata": {
    "lines_to_next_cell": 2,
    "tags": [
     "student"
    ]
   },
   "outputs": [],
   "source": []
  },
  {
   "cell_type": "markdown",
   "id": "1da81d93",
   "metadata": {},
   "source": [
    "<div style='background-color:rgba(80,255,80,0.4); padding:20px'>\n",
    "    ⌨️ <b>Exercise</b>: Some types are compatible with each other. Can you figure out what type the variable has that you get when you add <code>year</code> and <code>b</code>?.\n",
    "</div>"
   ]
  },
  {
   "cell_type": "code",
   "execution_count": null,
   "id": "1af71230",
   "metadata": {
    "lines_to_next_cell": 2,
    "tags": [
     "student"
    ]
   },
   "outputs": [],
   "source": []
  },
  {
   "cell_type": "markdown",
   "id": "53d71827",
   "metadata": {},
   "source": [
    "If your variable has one type but you want it to have another type, you can 'cast' it to another type as follows"
   ]
  },
  {
   "cell_type": "code",
   "execution_count": 7,
   "id": "3af9d659",
   "metadata": {},
   "outputs": [
    {
     "data": {
      "text/plain": [
       "2023.0"
      ]
     },
     "execution_count": 7,
     "metadata": {},
     "output_type": "execute_result"
    }
   ],
   "source": [
    "float(year)"
   ]
  },
  {
   "cell_type": "markdown",
   "id": "e7224e90",
   "metadata": {},
   "source": [
    "This doesn't always work, but only for types that can be cast into each other. For example, the following should give you an error"
   ]
  },
  {
   "cell_type": "code",
   "execution_count": 8,
   "id": "d8a96902",
   "metadata": {},
   "outputs": [
    {
     "ename": "ValueError",
     "evalue": "could not convert string to float: 'g'",
     "output_type": "error",
     "traceback": [
      "\u001b[0;31m---------------------------------------------------------------------------\u001b[0m",
      "\u001b[0;31mValueError\u001b[0m                                Traceback (most recent call last)",
      "\u001b[0;32m/var/folders/07/x0gf6dj176dfjvrn357t5p6h0000gn/T/ipykernel_96150/2872767934.py\u001b[0m in \u001b[0;36m<module>\u001b[0;34m\u001b[0m\n\u001b[0;32m----> 1\u001b[0;31m \u001b[0mfloat\u001b[0m\u001b[0;34m(\u001b[0m\u001b[0mletter\u001b[0m\u001b[0;34m)\u001b[0m\u001b[0;34m\u001b[0m\u001b[0;34m\u001b[0m\u001b[0m\n\u001b[0m",
      "\u001b[0;31mValueError\u001b[0m: could not convert string to float: 'g'"
     ]
    }
   ],
   "source": [
    "float(letter)"
   ]
  },
  {
   "cell_type": "markdown",
   "id": "acadf0c7",
   "metadata": {},
   "source": [
    "Variable names are case-sensitive. This means that while `b=2.3`, variable `B` is actually undefined. Try it out yourself"
   ]
  },
  {
   "cell_type": "code",
   "execution_count": 9,
   "id": "7d1cef25",
   "metadata": {},
   "outputs": [
    {
     "ename": "NameError",
     "evalue": "name 'B' is not defined",
     "output_type": "error",
     "traceback": [
      "\u001b[0;31m---------------------------------------------------------------------------\u001b[0m",
      "\u001b[0;31mNameError\u001b[0m                                 Traceback (most recent call last)",
      "\u001b[0;32m/var/folders/07/x0gf6dj176dfjvrn357t5p6h0000gn/T/ipykernel_96150/2079371697.py\u001b[0m in \u001b[0;36m<module>\u001b[0;34m\u001b[0m\n\u001b[0;32m----> 1\u001b[0;31m \u001b[0mB\u001b[0m\u001b[0;34m\u001b[0m\u001b[0;34m\u001b[0m\u001b[0m\n\u001b[0m",
      "\u001b[0;31mNameError\u001b[0m: name 'B' is not defined"
     ]
    }
   ],
   "source": [
    "B"
   ]
  },
  {
   "cell_type": "markdown",
   "id": "cd3a63f9",
   "metadata": {},
   "source": [
    "## Functions\n",
    "A function is a block of code that only runs when it's called. The benefit of defining a function is that - if you have to use a piece of code many times - you can easily call it. For example, we can define a function that just says 'Hello world'."
   ]
  },
  {
   "cell_type": "code",
   "execution_count": 10,
   "id": "fac988a9",
   "metadata": {},
   "outputs": [],
   "source": [
    "def greet():\n",
    "    return 'Hello world'"
   ]
  },
  {
   "cell_type": "markdown",
   "id": "e48f718c",
   "metadata": {},
   "source": [
    "If you run the cell above, you'll notice that there is no output. That is because the function is not called. To actually see some output we need to call the function like this:"
   ]
  },
  {
   "cell_type": "code",
   "execution_count": 11,
   "id": "80d5fd2b",
   "metadata": {},
   "outputs": [
    {
     "data": {
      "text/plain": [
       "'Hello world'"
      ]
     },
     "execution_count": 11,
     "metadata": {},
     "output_type": "execute_result"
    }
   ],
   "source": [
    "greet()"
   ]
  },
  {
   "cell_type": "markdown",
   "id": "afd9a157",
   "metadata": {},
   "source": [
    "Functions can also have arguments. For example, the function below takes two arguments `a` and `b` and adds these. Note that `a` and `b` are just the names of the variables within the function, i.e., within its scope. The function also has a `return` statement, to define what should be its output."
   ]
  },
  {
   "cell_type": "code",
   "execution_count": 12,
   "id": "172e745e",
   "metadata": {},
   "outputs": [],
   "source": [
    "def add_numbers(a, b):\n",
    "    return a + b"
   ]
  },
  {
   "cell_type": "markdown",
   "id": "c202367f",
   "metadata": {},
   "source": [
    "<div style='background-color:rgba(80,255,80,0.4); padding:20px'>\n",
    "    ⌨️ <b>Exercise</b>: Use the <code>add_numbers</code> function to add 45 and 1281.\n",
    "</div>"
   ]
  },
  {
   "cell_type": "code",
   "execution_count": null,
   "id": "86626bd3",
   "metadata": {
    "lines_to_next_cell": 2,
    "tags": [
     "student"
    ]
   },
   "outputs": [],
   "source": []
  },
  {
   "cell_type": "markdown",
   "id": "9fa08a3d",
   "metadata": {},
   "source": [
    "Of course, functions can be much more complex than this. We can make new variables within a function and call one function from another function. For example"
   ]
  },
  {
   "cell_type": "code",
   "execution_count": 13,
   "id": "55a76fc0",
   "metadata": {},
   "outputs": [
    {
     "data": {
      "text/plain": [
       "42"
      ]
     },
     "execution_count": 13,
     "metadata": {},
     "output_type": "execute_result"
    }
   ],
   "source": [
    "def multiply_numbers(a, b):\n",
    "    return a * b\n",
    "\n",
    "def my_function(a, b, c):\n",
    "    d = add_numbers(a, b)\n",
    "    return multiply_numbers(d, c)\n",
    "\n",
    "my_function(2, 5, 6)"
   ]
  },
  {
   "cell_type": "markdown",
   "id": "8284b287",
   "metadata": {},
   "source": [
    "The sky is the limit. We can put `if`, `elif` and `else` statements in a function, make `for` loops and even call a function from within that same function (recursiveness). For example, we can easily write a function that computes the factorial of a number, i.e., $a!$."
   ]
  },
  {
   "cell_type": "code",
   "execution_count": 14,
   "id": "49dd1839",
   "metadata": {},
   "outputs": [
    {
     "data": {
      "text/plain": [
       "120"
      ]
     },
     "execution_count": 14,
     "metadata": {},
     "output_type": "execute_result"
    }
   ],
   "source": [
    "def factorial(a):\n",
    "    if a > 0:\n",
    "        return a * factorial(a - 1)\n",
    "    else:\n",
    "        return 1\n",
    "    \n",
    "factorial(5)"
   ]
  },
  {
   "cell_type": "markdown",
   "id": "bb8854bb",
   "metadata": {},
   "source": [
    "One important thing to consider when working with functions (and classes) is the scope of a variable. If you define a variable in a function, it will cease to exist when the function is executed. Let's look at the simple example below. If we run this cell, we get an error which says that in the global scope, `u` is not defined.\n",
    "\n",
    "(Note that the function below does not have a `return` statement. If we leave this out and we don't want to return anything, Python will just add `return None` for us.)"
   ]
  },
  {
   "cell_type": "code",
   "execution_count": 15,
   "id": "6bf7b915",
   "metadata": {},
   "outputs": [
    {
     "ename": "NameError",
     "evalue": "name 'u' is not defined",
     "output_type": "error",
     "traceback": [
      "\u001b[0;31m---------------------------------------------------------------------------\u001b[0m",
      "\u001b[0;31mNameError\u001b[0m                                 Traceback (most recent call last)",
      "\u001b[0;32m/var/folders/07/x0gf6dj176dfjvrn357t5p6h0000gn/T/ipykernel_96150/2791081934.py\u001b[0m in \u001b[0;36m<module>\u001b[0;34m\u001b[0m\n\u001b[1;32m      2\u001b[0m     \u001b[0mu\u001b[0m \u001b[0;34m=\u001b[0m \u001b[0;36m8\u001b[0m\u001b[0;34m\u001b[0m\u001b[0;34m\u001b[0m\u001b[0m\n\u001b[1;32m      3\u001b[0m \u001b[0;34m\u001b[0m\u001b[0m\n\u001b[0;32m----> 4\u001b[0;31m \u001b[0mu\u001b[0m\u001b[0;34m\u001b[0m\u001b[0;34m\u001b[0m\u001b[0m\n\u001b[0m",
      "\u001b[0;31mNameError\u001b[0m: name 'u' is not defined"
     ]
    }
   ],
   "source": [
    "def manipulate():\n",
    "    u = 8\n",
    "\n",
    "u"
   ]
  },
  {
   "cell_type": "markdown",
   "id": "9a49c311",
   "metadata": {},
   "source": [
    "Conversely, if you define a variable globally, you can read it from within a function, but you cannot change it. Let's look at a very simple example to demonstrate this. In principe, the function `change_e` should set the value of variable `e` to that of `f`. However, because `e` is a global variable, we're not allowed to change it from within this function."
   ]
  },
  {
   "cell_type": "code",
   "execution_count": 16,
   "id": "8dc75070",
   "metadata": {},
   "outputs": [
    {
     "data": {
      "text/plain": [
       "4"
      ]
     },
     "execution_count": 16,
     "metadata": {},
     "output_type": "execute_result"
    }
   ],
   "source": [
    "e = 4\n",
    "\n",
    "def change_e(f):\n",
    "    e = f\n",
    "\n",
    "change_e(6)\n",
    "e"
   ]
  },
  {
   "cell_type": "markdown",
   "id": "cedc8021",
   "metadata": {},
   "source": [
    "## Objects\n",
    "Another essential building block of Python are its objects. In Python, everything is an object. In practice this means that any variable you use has *attributes* and *methods*. You can easily define your own objects by defining a class. An object is nothing more than an instance of such a class. Take for example cars. There are many kinds of cars, but we can come up with a class that captures the general idea of a car with attributed and methods:\n",
    "* **Attributes** Color, brand, speed\n",
    "* **Methods** Accelerate, slow down\n",
    "\n",
    "We can put this in code:"
   ]
  },
  {
   "cell_type": "code",
   "execution_count": 17,
   "id": "3e0ea5e2",
   "metadata": {},
   "outputs": [],
   "source": [
    "class Car:\n",
    "\n",
    "    def __init__(self, color, brand, speed=0): \n",
    "        self.color = color\n",
    "        self.brand = brand\n",
    "        self.speed = speed\n",
    "    \n",
    "    def __call__(self):\n",
    "        print(f'Toot toot, I am the fastest {self.brand}')        \n",
    "        \n",
    "    def accelerate(self):\n",
    "        self.speed += 1\n",
    "        \n",
    "    def slow_down(self):\n",
    "        self.speed = max(self.speed - 1, 0)      "
   ]
  },
  {
   "cell_type": "markdown",
   "id": "ed7d8618",
   "metadata": {},
   "source": [
    "There are some important things here:\n",
    "* By convention, we capitalize class names.\n",
    "* Every class has an `__init__` method/function. This is a function that is called if we instantiate an object of that class. The first argument of the `__init__` function is `self`, and we can use this function to set the attribute values of the object. In this case, `color`, `brand`, and `speed`.\n",
    "* The `__init__` method of this class has four arguments, but we provide a default value for `speed`, namely `0`. This means that if we call the `__init__` function (by instantiating an object), we don't necessarily have to provide a value for this argument (but we can if we want).\n",
    "* This class also has a `__call__` function that allows us to call the class like a function.\n",
    "* This class has two other methods: `accelerate` and `slow_down`. In these methods, we can change the attributes of the class, but only if we prepend the attribute name with `self.`. \n",
    "* In the `slow_down` function, we use a so-called `built-in` function, namely `max`. This is a function that you don't have to explicitly define or import, it's just there. In this case, it makes sure that we can't have a negative speed.\n",
    "\n",
    "Now, let's initialize Jelmer's car which is just standing still in the parking lot. We can do this by calling the class (just like we'd call a function) with arguments. This way, we indirectly call its `__init__` function. Also, we use the built-in `print` function to print its current speed."
   ]
  },
  {
   "cell_type": "code",
   "execution_count": 18,
   "id": "c484ae68",
   "metadata": {},
   "outputs": [
    {
     "name": "stdout",
     "output_type": "stream",
     "text": [
      "0\n"
     ]
    }
   ],
   "source": [
    "jelmers_car = Car(color='gray', brand='skoda')\n",
    "print(jelmers_car.speed)"
   ]
  },
  {
   "cell_type": "markdown",
   "id": "978b9b32",
   "metadata": {},
   "source": [
    "\n",
    "Now, we can make the car go faster by calling its `accelerate` function, slow down using its `slow_down` function (note how the speed stays non-negative), and honk it's horn via its `__call__` function."
   ]
  },
  {
   "cell_type": "code",
   "execution_count": 19,
   "id": "74a86290",
   "metadata": {},
   "outputs": [
    {
     "name": "stdout",
     "output_type": "stream",
     "text": [
      "1\n",
      "0\n",
      "Toot toot, I am the fastest skoda\n"
     ]
    }
   ],
   "source": [
    "jelmers_car.accelerate()\n",
    "print(jelmers_car.speed)\n",
    "jelmers_car.slow_down()\n",
    "jelmers_car.slow_down()\n",
    "print(jelmers_car.speed)\n",
    "\n",
    "# To call the __call__ function, we just pretend the object is a function\n",
    "jelmers_car()"
   ]
  },
  {
   "cell_type": "markdown",
   "id": "1c75d021",
   "metadata": {},
   "source": [
    "The nice thing with classes is that if we want to represent Dieuwertje's car driving on the A35, we can just make another object using the same class."
   ]
  },
  {
   "cell_type": "code",
   "execution_count": 20,
   "id": "34da53c8",
   "metadata": {},
   "outputs": [],
   "source": [
    "dieuwertjes_car = Car(color='gold', brand='hyundai', speed=100)"
   ]
  },
  {
   "cell_type": "markdown",
   "id": "e024e01b",
   "metadata": {},
   "source": [
    "We have now created variables which are just objects of the type `Car`, similarly to variables of built-in types `float`, `int`, `str` that you have seen before. Which means that we can also write functions that take these objects as inputs. Let's define a function that determines which car would win a race:"
   ]
  },
  {
   "cell_type": "code",
   "execution_count": 21,
   "id": "a87ddf6c",
   "metadata": {},
   "outputs": [
    {
     "name": "stdout",
     "output_type": "stream",
     "text": [
      "The second car wins!\n"
     ]
    }
   ],
   "source": [
    "def racing_time(car_a, car_b):\n",
    "    if car_a.speed > car_b.speed:\n",
    "        print('The first car wins!')\n",
    "    elif car_b.speed > car_a.speed:\n",
    "        print('The second car wins!')\n",
    "    else:\n",
    "        print('Everyone is a winner')\n",
    "        \n",
    "racing_time(jelmers_car, dieuwertjes_car)      "
   ]
  },
  {
   "cell_type": "markdown",
   "id": "dbd5b468",
   "metadata": {},
   "source": [
    "<div style='background-color:rgba(80,255,80,0.4); padding:20px'>\n",
    "    ⌨️ <b>Exercise</b>: Write code such that Jelmer's car wins.\n",
    "</div>"
   ]
  },
  {
   "cell_type": "code",
   "execution_count": null,
   "id": "a1cdeea2",
   "metadata": {
    "lines_to_next_cell": 2,
    "tags": [
     "student"
    ]
   },
   "outputs": [],
   "source": []
  },
  {
   "cell_type": "markdown",
   "id": "b9e55649",
   "metadata": {},
   "source": [
    "There are many nice things you can do with classes, and we're not going to go into too many details here, but one thing that is useful to know is 'inheritance'. Let's say we want to make a very specific class for red Fiat cars and we're also interested in the year that they were built. We can either make a completely new class, or reuse/inherit from our existing `car` class. "
   ]
  },
  {
   "cell_type": "code",
   "execution_count": 22,
   "id": "974ce49b",
   "metadata": {},
   "outputs": [],
   "source": [
    "class FiatCar(Car):\n",
    "       \n",
    "    def __init__(self, year):\n",
    "        Car.__init__(self, color='red', brand='fiat')        \n",
    "        self.year = year    "
   ]
  },
  {
   "cell_type": "markdown",
   "id": "cc4fbf65",
   "metadata": {},
   "source": [
    "We can now just instantiate an object of this class and as you see below, it has all the same attributes and methods as its parent class `Car`, plus a new one, `year`."
   ]
  },
  {
   "cell_type": "code",
   "execution_count": 23,
   "id": "dce2459e",
   "metadata": {},
   "outputs": [
    {
     "name": "stdout",
     "output_type": "stream",
     "text": [
      "red\n",
      "fiat\n",
      "1\n",
      "1922\n"
     ]
    }
   ],
   "source": [
    "my_fiat = FiatCar(1922)\n",
    "print(my_fiat.color)\n",
    "print(my_fiat.brand)\n",
    "my_fiat.accelerate()\n",
    "print(my_fiat.speed)\n",
    "print(my_fiat.year)"
   ]
  },
  {
   "cell_type": "markdown",
   "id": "0d594f58",
   "metadata": {},
   "source": [
    "<div style='background-color:rgba(80,255,80,0.4); padding:20px'>\n",
    "    ⌨️ <b>Exercise</b>: <code>FiatCar</code> is a subclass of <Car>. Write a subclass of <Car> to represent Formula 1 cars, call it <code>FormulaOneCar</code> and give it some fitting attributes and methods.  \n",
    "</div>"
   ]
  },
  {
   "cell_type": "code",
   "execution_count": null,
   "id": "40678ea6",
   "metadata": {
    "lines_to_next_cell": 2,
    "tags": [
     "student"
    ]
   },
   "outputs": [],
   "source": []
  },
  {
   "cell_type": "markdown",
   "id": "b6c6539a",
   "metadata": {},
   "source": [
    "## Tuples, lists and sets\n",
    "Sometimes (or actually quite often), we want to store multiple values in one variable. In that case, Python has several options. We can make either a `tuple`, a `list` or a `set`. It's good to realize that these are just built-in classes, which means that they also have attributed and methods. There are some important differences between tuples, lists and sets, and depending on the situation you might want to use one or the other. Differences are nicely explained in the figure below:\n",
    "\n",
    "* **Mutable**: Once the variable has been made, can we still change it?\n",
    "* **Ordered**: Is there a particular order of the elements that is kept?\n",
    "* **Indexing/slicing**: Can we ask what is in, e.g., position 3?\n",
    "* **Duplicate elements**: Can the variable contain multiple elements with the same value?\n",
    "\n",
    "\n",
    "<img src='https://miro.medium.com/v2/resize:fit:1134/format:webp/1*WMiNIQ9THariDSJw47uU1w.png'></src>\n",
    "\n",
    "A tuple is made using parentheses `a_tuple = (1, 2, 3)`, a list using square brackets `a_list = [1, 2, 3]`, and a set using curly brackets `a_set = {1, 2, 3}`. \n",
    "\n",
    "Now let's make a tuple, list, and set and see these differences in action."
   ]
  },
  {
   "cell_type": "code",
   "execution_count": 24,
   "id": "b9e538ba",
   "metadata": {},
   "outputs": [],
   "source": [
    "a_tuple = (12, 4, 8)\n",
    "a_list = [12, 4, 8]\n",
    "a_set = {12, 4, 8}"
   ]
  },
  {
   "cell_type": "markdown",
   "id": "745862bc",
   "metadata": {},
   "source": [
    "Let's first look at mutability. We can change the list and set by appending values. This works slightly differently for lists and sets, but is impossible for tuples."
   ]
  },
  {
   "cell_type": "code",
   "execution_count": 25,
   "id": "a1d52676",
   "metadata": {},
   "outputs": [
    {
     "name": "stdout",
     "output_type": "stream",
     "text": [
      "[12, 4, 8, 3, 4, 5]\n",
      "{3, 4, 5, 8, 12}\n"
     ]
    }
   ],
   "source": [
    "a_list += [3, 4, 5]\n",
    "print(a_list)\n",
    "\n",
    "a_set |= {3, 4, 5}\n",
    "print(a_set)"
   ]
  },
  {
   "cell_type": "markdown",
   "id": "3e26462a",
   "metadata": {},
   "source": [
    "As you probably notice, the elements have been added to the list as well as to the set, but the order of the set has changed. A set is an unordered data structure, so it does not preserve any order we give to its elements. Instead, if we print the set, we just get its element, sorted in ascending order. For the list, the order that we give is preserved. Similarly for the tuple. This also affects indexing: because there is no order in the set, we cannot ask fo the $n$th item. However, we can do this for the list and tuple:"
   ]
  },
  {
   "cell_type": "code",
   "execution_count": 26,
   "id": "31fc173f",
   "metadata": {},
   "outputs": [
    {
     "name": "stdout",
     "output_type": "stream",
     "text": [
      "4\n",
      "4\n"
     ]
    },
    {
     "ename": "TypeError",
     "evalue": "'set' object is not subscriptable",
     "output_type": "error",
     "traceback": [
      "\u001b[0;31m---------------------------------------------------------------------------\u001b[0m",
      "\u001b[0;31mTypeError\u001b[0m                                 Traceback (most recent call last)",
      "\u001b[0;32m/var/folders/07/x0gf6dj176dfjvrn357t5p6h0000gn/T/ipykernel_96150/292420057.py\u001b[0m in \u001b[0;36m<module>\u001b[0;34m\u001b[0m\n\u001b[1;32m      1\u001b[0m \u001b[0mprint\u001b[0m\u001b[0;34m(\u001b[0m\u001b[0ma_list\u001b[0m\u001b[0;34m[\u001b[0m\u001b[0;36m4\u001b[0m\u001b[0;34m]\u001b[0m\u001b[0;34m)\u001b[0m\u001b[0;34m\u001b[0m\u001b[0;34m\u001b[0m\u001b[0m\n\u001b[1;32m      2\u001b[0m \u001b[0mprint\u001b[0m\u001b[0;34m(\u001b[0m\u001b[0ma_tuple\u001b[0m\u001b[0;34m[\u001b[0m\u001b[0;36m1\u001b[0m\u001b[0;34m]\u001b[0m\u001b[0;34m)\u001b[0m\u001b[0;34m\u001b[0m\u001b[0;34m\u001b[0m\u001b[0m\n\u001b[0;32m----> 3\u001b[0;31m \u001b[0mprint\u001b[0m\u001b[0;34m(\u001b[0m\u001b[0ma_set\u001b[0m\u001b[0;34m[\u001b[0m\u001b[0;36m2\u001b[0m\u001b[0;34m]\u001b[0m\u001b[0;34m)\u001b[0m\u001b[0;34m\u001b[0m\u001b[0;34m\u001b[0m\u001b[0m\n\u001b[0m",
      "\u001b[0;31mTypeError\u001b[0m: 'set' object is not subscriptable"
     ]
    }
   ],
   "source": [
    "print(a_list[4])\n",
    "print(a_tuple[1])\n",
    "print(a_set[2])"
   ]
  },
  {
   "cell_type": "markdown",
   "id": "30905732",
   "metadata": {},
   "source": [
    "Finally, as the table indicated, sets cannot have duplicate elements. Because there's no order, there would be no way to keep two duplicated apart. This is not a problem for the list and tuple though:"
   ]
  },
  {
   "cell_type": "code",
   "execution_count": 27,
   "id": "92d04f8a",
   "metadata": {},
   "outputs": [
    {
     "name": "stdout",
     "output_type": "stream",
     "text": [
      "[1, 2, 3, 1, 2, 3]\n",
      "(1, 2, 3, 1, 2, 3)\n",
      "{1, 2, 3}\n"
     ]
    }
   ],
   "source": [
    "a_list = [1, 2, 3, 1, 2, 3]\n",
    "a_tuple = (1, 2, 3, 1, 2,3)\n",
    "a_set = {1, 2, 3, 1, 2, 3}\n",
    "\n",
    "print(a_list)\n",
    "print(a_tuple)\n",
    "print(a_set)"
   ]
  },
  {
   "cell_type": "markdown",
   "id": "09ee83b3",
   "metadata": {},
   "source": [
    "List, tuples, and sets have all kinds of built-in functions, and can also be cast into one another. One useful built-in function is `in`. For example, if we want to check if the value `3` appears in `a_list`, we can just write:"
   ]
  },
  {
   "cell_type": "code",
   "execution_count": 28,
   "id": "5a2803f5",
   "metadata": {},
   "outputs": [
    {
     "name": "stdout",
     "output_type": "stream",
     "text": [
      "True\n"
     ]
    }
   ],
   "source": [
    "print(3 in a_list)"
   ]
  },
  {
   "cell_type": "markdown",
   "id": "43a35baf",
   "metadata": {},
   "source": [
    "## Dictionaries\n",
    "One last Python thing that we want to tell you (for know) is about dictionaries. Dictionaries are a very convenient way to keep tracks of *keys* and *values*. In a way, you can think of dictionaries as a set with indexing, where you can define your own kinds of indices. A typical dictionary is defined as below, and as you see, we can ask for the value of specific elements in the dictionary."
   ]
  },
  {
   "cell_type": "code",
   "execution_count": 29,
   "id": "b4bf2ce4",
   "metadata": {},
   "outputs": [
    {
     "data": {
      "text/plain": [
       "4"
      ]
     },
     "execution_count": 29,
     "metadata": {},
     "output_type": "execute_result"
    }
   ],
   "source": [
    "a_dict = {'a': 2, 'b': 4, 'c': 8}\n",
    "a_dict['b']"
   ]
  },
  {
   "cell_type": "markdown",
   "id": "500a5bdc",
   "metadata": {},
   "source": [
    "For example, we can make a dictionary with the cars that we have just defined and use names as keys."
   ]
  },
  {
   "cell_type": "code",
   "execution_count": 30,
   "id": "d6992d7a",
   "metadata": {},
   "outputs": [
    {
     "name": "stdout",
     "output_type": "stream",
     "text": [
      "The second car wins!\n"
     ]
    }
   ],
   "source": [
    "cars = {'Jelmer': jelmers_car, 'Dieuwertje': dieuwertjes_car}\n",
    "racing_time(cars['Jelmer'], cars['Dieuwertje'])"
   ]
  },
  {
   "cell_type": "markdown",
   "id": "5926e2dd",
   "metadata": {},
   "source": [
    "There is no reason to restrict the dictionary keys or values to a specific type, we can mix and match types."
   ]
  },
  {
   "cell_type": "code",
   "execution_count": 31,
   "id": "84954616",
   "metadata": {},
   "outputs": [
    {
     "data": {
      "text/plain": [
       "'b'"
      ]
     },
     "execution_count": 31,
     "metadata": {},
     "output_type": "execute_result"
    }
   ],
   "source": [
    "mixed_dict = {'Jelmer': jelmers_car, 'a': 4, 2: 'b'}\n",
    "mixed_dict[2]"
   ]
  },
  {
   "cell_type": "markdown",
   "id": "c8ad78de",
   "metadata": {},
   "source": [
    "<div style='background-color:rgba(80,255,80,0.4); padding:20px'>\n",
    "    ⌨️ <b>Exercise</b>: Ask the three people closest to you right now which study programme they're in. Make a Python dictionary in which there name is the key, and their study programme the value. \n",
    "</div>"
   ]
  },
  {
   "cell_type": "code",
   "execution_count": null,
   "id": "ef6e6c18",
   "metadata": {
    "lines_to_next_cell": 2,
    "tags": [
     "student"
    ]
   },
   "outputs": [],
   "source": []
  },
  {
   "cell_type": "markdown",
   "id": "63620beb",
   "metadata": {
    "pycharm": {
     "name": "#%% md\n"
    }
   },
   "source": [
    "# Working with medical images\n",
    "\n",
    "Now let's put all this Python magic to some good use and see how we can use it to load and manipulate medical images. Medical image file formats are plenty. Most medical imaging devices store images in DICOM format, but you will also see Nifti, MetaImage (MHD), or NRRD files. What many image formats have in common is that they contain *meta information*. This is information about, e.g., the physical size of a pixel or voxel in the image, the origin of the image in world coordinates, a rotation matrix to correct for patient orientation, and even information about the CT/MRI scanner that is used and its settings. We're typically not interested in all this information or *tags*, but some of it is indispensable for image analysis. \n",
    "\n",
    "In this tutorial, you learn to \n",
    "\n",
    "- Load the provided images\n",
    "- Extract their physical voxel size\n",
    "- Convert the image to a NumPy `ndarray` object\n",
    "- Visualize the image \n",
    "\n",
    "Let's first import some of the packages used in this part of the tutorial. A package is just a collection of Python classes and functions that extend the standard built-in Python functions and classes. You will need some medical images to do this tutorial. You can download these from the [SURFdrive directory](https://surfdrive.surf.nl/files/index.php/s/vnA6J0xAhyzoYuz). Once you have downloaded all data for Tutorial 1, add the path in the box below. Note that this is slightly different for Jupyter and Colab. In **Jupyter**, you just add the local path where you're stored the data. In **Colab**, there are [several ways to use files](https://colab.research.google.com/notebooks/io.ipynb). It might be easiest to put the data on your Google Drive."
   ]
  },
  {
   "cell_type": "markdown",
   "id": "ae9c9803",
   "metadata": {},
   "source": [
    "<div style='background-color:rgba(80,255,80,0.4); padding:20px'>\n",
    "  ⌨️ <b>Exercise</b>: Add path in Jupyter.\n",
    "</div>"
   ]
  },
  {
   "cell_type": "code",
   "execution_count": 32,
   "id": "de146721",
   "metadata": {
    "pycharm": {
     "name": "#%%\n"
    }
   },
   "outputs": [],
   "source": [
    "data_path = r'/Users/jmwolterink/Downloads/Tutorial_1'"
   ]
  },
  {
   "cell_type": "markdown",
   "id": "28103048",
   "metadata": {},
   "source": [
    "<div style='background-color:rgba(80,255,80,0.4); padding:20px'>\n",
    "  ⌨️ <b>Exercise</b>: Add path in Google Colab.\n",
    "</div>"
   ]
  },
  {
   "cell_type": "code",
   "execution_count": 33,
   "id": "f6e3a967",
   "metadata": {},
   "outputs": [
    {
     "ename": "ModuleNotFoundError",
     "evalue": "No module named 'google.colab'",
     "output_type": "error",
     "traceback": [
      "\u001b[0;31m---------------------------------------------------------------------------\u001b[0m",
      "\u001b[0;31mModuleNotFoundError\u001b[0m                       Traceback (most recent call last)",
      "\u001b[0;32m/var/folders/07/x0gf6dj176dfjvrn357t5p6h0000gn/T/ipykernel_96150/550177472.py\u001b[0m in \u001b[0;36m<module>\u001b[0;34m\u001b[0m\n\u001b[0;32m----> 1\u001b[0;31m \u001b[0;32mfrom\u001b[0m \u001b[0mgoogle\u001b[0m\u001b[0;34m.\u001b[0m\u001b[0mcolab\u001b[0m \u001b[0;32mimport\u001b[0m \u001b[0mdrive\u001b[0m\u001b[0;34m\u001b[0m\u001b[0;34m\u001b[0m\u001b[0m\n\u001b[0m\u001b[1;32m      2\u001b[0m \u001b[0;34m\u001b[0m\u001b[0m\n\u001b[1;32m      3\u001b[0m \u001b[0mdrive\u001b[0m\u001b[0;34m.\u001b[0m\u001b[0mmount\u001b[0m\u001b[0;34m(\u001b[0m\u001b[0;34m'/content/drive'\u001b[0m\u001b[0;34m)\u001b[0m\u001b[0;34m\u001b[0m\u001b[0;34m\u001b[0m\u001b[0m\n\u001b[1;32m      4\u001b[0m \u001b[0mdata_path\u001b[0m \u001b[0;34m=\u001b[0m \u001b[0;34mr'/content/drive/My Drive/WHEREDIDYOUPUTTHEDATA?'\u001b[0m\u001b[0;34m\u001b[0m\u001b[0;34m\u001b[0m\u001b[0m\n",
      "\u001b[0;31mModuleNotFoundError\u001b[0m: No module named 'google.colab'"
     ]
    }
   ],
   "source": [
    "from google.colab import drive\n",
    "\n",
    "drive.mount('/content/drive')\n",
    "data_path = r'/content/drive/My Drive/WHEREDIDYOUPUTTHEDATA?'"
   ]
  },
  {
   "cell_type": "markdown",
   "id": "c4f14a00",
   "metadata": {},
   "source": [
    "### Python packages\n",
    "\n",
    "Some of the packages we'll primarily use in the course tutorials are\n",
    "- [NumPy](https://numpy.org/). This is a widely used package for linear algebra, i.e., working with vectors, matrices, and tensors in Python. These are called <i>arrays</i> in NumPy and you'll see them all over the place.\n",
    "- [SimpleITK](https://simpleitk.org/). While there are many Python packages that will let you read a medical image or apply some functions to the image, none of them have the versatility that SimpleITK has. This is because it is based on ITK (Insight ToolKit), one of the oldest and most widely used image processing toolkits. \n",
    "- [Matplotlib](https://matplotlib.org/). This package allows you to make plots and visualize images. \n",
    "- [PyTorch](https://pytorch.org/). PyTorch is one of the primary and most popular Python packages used for deep learning. It has all kinds of nice features that make it (relatively) easy to design and train a neural network. \n",
    "- [MONAI](https://monai.io/). MONAI is a PyTorch extension that is specifically designed for developing deep learning methods on medical images. Because it has a lot of built-in functionality, it will make your life a lot easier.\n",
    "\n",
    "Because not all of these packages might be installed by default (depending on your Python distribution),  you first need to install some packages."
   ]
  },
  {
   "cell_type": "code",
   "execution_count": 34,
   "id": "93d82b6c",
   "metadata": {
    "pycharm": {
     "name": "#%%\n"
    }
   },
   "outputs": [
    {
     "name": "stdout",
     "output_type": "stream",
     "text": [
      "Collecting SimpleITK\r\n"
     ]
    },
    {
     "name": "stdout",
     "output_type": "stream",
     "text": [
      "  Using cached SimpleITK-2.3.0.tar.gz (2.1 MB)\r\n"
     ]
    },
    {
     "name": "stdout",
     "output_type": "stream",
     "text": [
      "  Installing build dependencies ... \u001b[?25l-"
     ]
    },
    {
     "name": "stdout",
     "output_type": "stream",
     "text": [
      "\b \b\\"
     ]
    },
    {
     "name": "stdout",
     "output_type": "stream",
     "text": [
      "\b \b|"
     ]
    },
    {
     "name": "stdout",
     "output_type": "stream",
     "text": [
      "\b \b/"
     ]
    },
    {
     "name": "stdout",
     "output_type": "stream",
     "text": [
      "\b \b-"
     ]
    },
    {
     "name": "stdout",
     "output_type": "stream",
     "text": [
      "\b \b\\"
     ]
    },
    {
     "name": "stdout",
     "output_type": "stream",
     "text": [
      "\b \b|"
     ]
    },
    {
     "name": "stdout",
     "output_type": "stream",
     "text": [
      "\b \b/"
     ]
    },
    {
     "name": "stdout",
     "output_type": "stream",
     "text": [
      "\b \b-"
     ]
    },
    {
     "name": "stdout",
     "output_type": "stream",
     "text": [
      "\b \bdone\r\n"
     ]
    },
    {
     "name": "stdout",
     "output_type": "stream",
     "text": [
      "\u001b[?25h  Getting requirements to build wheel ... \u001b[?25l-"
     ]
    },
    {
     "name": "stdout",
     "output_type": "stream",
     "text": [
      "\b \b\\"
     ]
    },
    {
     "name": "stdout",
     "output_type": "stream",
     "text": [
      "\b \bdone\r\n"
     ]
    },
    {
     "name": "stdout",
     "output_type": "stream",
     "text": [
      "\u001b[?25h  Preparing metadata (pyproject.toml) ... \u001b[?25l-"
     ]
    },
    {
     "name": "stdout",
     "output_type": "stream",
     "text": [
      "\b \bdone\r\n",
      "\u001b[?25hBuilding wheels for collected packages: SimpleITK\r\n"
     ]
    },
    {
     "name": "stdout",
     "output_type": "stream",
     "text": [
      "  Building wheel for SimpleITK (pyproject.toml) ... \u001b[?25l-"
     ]
    },
    {
     "name": "stdout",
     "output_type": "stream",
     "text": [
      "\b \b\\"
     ]
    },
    {
     "name": "stdout",
     "output_type": "stream",
     "text": [
      "\b \b|"
     ]
    },
    {
     "name": "stdout",
     "output_type": "stream",
     "text": [
      "\b \b/"
     ]
    },
    {
     "name": "stdout",
     "output_type": "stream",
     "text": [
      "\b \b-"
     ]
    },
    {
     "name": "stdout",
     "output_type": "stream",
     "text": [
      "\b \b\\"
     ]
    },
    {
     "name": "stdout",
     "output_type": "stream",
     "text": [
      "\b \b|"
     ]
    },
    {
     "name": "stdout",
     "output_type": "stream",
     "text": [
      "\b \b/"
     ]
    },
    {
     "name": "stdout",
     "output_type": "stream",
     "text": [
      "\b \b-"
     ]
    },
    {
     "name": "stdout",
     "output_type": "stream",
     "text": [
      "\b \b\\"
     ]
    },
    {
     "name": "stdout",
     "output_type": "stream",
     "text": [
      "\b \b|"
     ]
    },
    {
     "name": "stdout",
     "output_type": "stream",
     "text": [
      "\b \b/"
     ]
    },
    {
     "name": "stdout",
     "output_type": "stream",
     "text": [
      "\b \b-"
     ]
    },
    {
     "name": "stdout",
     "output_type": "stream",
     "text": [
      "\b \b\\"
     ]
    },
    {
     "name": "stdout",
     "output_type": "stream",
     "text": [
      "\b \b|"
     ]
    },
    {
     "name": "stdout",
     "output_type": "stream",
     "text": [
      "\b \b/"
     ]
    },
    {
     "name": "stdout",
     "output_type": "stream",
     "text": [
      "\b \b-"
     ]
    },
    {
     "name": "stdout",
     "output_type": "stream",
     "text": [
      "\b \b\\"
     ]
    },
    {
     "name": "stdout",
     "output_type": "stream",
     "text": [
      "\b \b|"
     ]
    },
    {
     "name": "stdout",
     "output_type": "stream",
     "text": [
      "\b \b/"
     ]
    },
    {
     "name": "stdout",
     "output_type": "stream",
     "text": [
      "\b \b-"
     ]
    },
    {
     "name": "stdout",
     "output_type": "stream",
     "text": [
      "\b \b\\"
     ]
    },
    {
     "name": "stdout",
     "output_type": "stream",
     "text": [
      "\b \b|"
     ]
    },
    {
     "name": "stdout",
     "output_type": "stream",
     "text": [
      "\b \b/"
     ]
    },
    {
     "name": "stdout",
     "output_type": "stream",
     "text": [
      "\b \b-"
     ]
    },
    {
     "name": "stdout",
     "output_type": "stream",
     "text": [
      "\b \b\\"
     ]
    },
    {
     "name": "stdout",
     "output_type": "stream",
     "text": [
      "\b \b|"
     ]
    },
    {
     "name": "stdout",
     "output_type": "stream",
     "text": [
      "\b \b/"
     ]
    },
    {
     "name": "stdout",
     "output_type": "stream",
     "text": [
      "\b \b-"
     ]
    },
    {
     "name": "stdout",
     "output_type": "stream",
     "text": [
      "\b \b\\"
     ]
    },
    {
     "name": "stdout",
     "output_type": "stream",
     "text": [
      "\b \b|"
     ]
    },
    {
     "name": "stdout",
     "output_type": "stream",
     "text": [
      "\b \b/"
     ]
    },
    {
     "name": "stdout",
     "output_type": "stream",
     "text": [
      "\b \b-"
     ]
    },
    {
     "name": "stdout",
     "output_type": "stream",
     "text": [
      "\b \b\\"
     ]
    },
    {
     "name": "stdout",
     "output_type": "stream",
     "text": [
      "\b \b|"
     ]
    },
    {
     "name": "stdout",
     "output_type": "stream",
     "text": [
      "\b \b/"
     ]
    },
    {
     "name": "stdout",
     "output_type": "stream",
     "text": [
      "\b \b-"
     ]
    },
    {
     "name": "stdout",
     "output_type": "stream",
     "text": [
      "\b \b\\"
     ]
    },
    {
     "name": "stdout",
     "output_type": "stream",
     "text": [
      "\b \b|"
     ]
    },
    {
     "name": "stdout",
     "output_type": "stream",
     "text": [
      "\b \b/"
     ]
    },
    {
     "name": "stdout",
     "output_type": "stream",
     "text": [
      "\b \b-"
     ]
    },
    {
     "name": "stdout",
     "output_type": "stream",
     "text": [
      "\b \b\\"
     ]
    },
    {
     "name": "stdout",
     "output_type": "stream",
     "text": [
      "\b \b|"
     ]
    },
    {
     "name": "stdout",
     "output_type": "stream",
     "text": [
      "\b \b/"
     ]
    },
    {
     "name": "stdout",
     "output_type": "stream",
     "text": [
      "\b \b-"
     ]
    },
    {
     "name": "stdout",
     "output_type": "stream",
     "text": [
      "\b \b\\"
     ]
    },
    {
     "name": "stdout",
     "output_type": "stream",
     "text": [
      "\b \b|"
     ]
    },
    {
     "name": "stdout",
     "output_type": "stream",
     "text": [
      "\b \b/"
     ]
    },
    {
     "name": "stdout",
     "output_type": "stream",
     "text": [
      "\b \b-"
     ]
    },
    {
     "name": "stdout",
     "output_type": "stream",
     "text": [
      "\b \b\\"
     ]
    },
    {
     "name": "stdout",
     "output_type": "stream",
     "text": [
      "\b \b|"
     ]
    },
    {
     "name": "stdout",
     "output_type": "stream",
     "text": [
      "\b \b/"
     ]
    },
    {
     "name": "stdout",
     "output_type": "stream",
     "text": [
      "\b \b-"
     ]
    },
    {
     "name": "stdout",
     "output_type": "stream",
     "text": [
      "\b \b\\"
     ]
    },
    {
     "name": "stdout",
     "output_type": "stream",
     "text": [
      "\b \b|"
     ]
    },
    {
     "name": "stdout",
     "output_type": "stream",
     "text": [
      "\b \b/"
     ]
    },
    {
     "name": "stdout",
     "output_type": "stream",
     "text": [
      "\b \b-"
     ]
    },
    {
     "name": "stdout",
     "output_type": "stream",
     "text": [
      "\b \b\\"
     ]
    },
    {
     "name": "stdout",
     "output_type": "stream",
     "text": [
      "\b \b|"
     ]
    },
    {
     "name": "stdout",
     "output_type": "stream",
     "text": [
      "\b \b/"
     ]
    },
    {
     "name": "stdout",
     "output_type": "stream",
     "text": [
      "\b \b-"
     ]
    },
    {
     "name": "stdout",
     "output_type": "stream",
     "text": [
      "\b \b\\"
     ]
    },
    {
     "name": "stdout",
     "output_type": "stream",
     "text": [
      "\b \b|"
     ]
    },
    {
     "name": "stdout",
     "output_type": "stream",
     "text": [
      "\b \b/"
     ]
    },
    {
     "name": "stdout",
     "output_type": "stream",
     "text": [
      "\b \b-"
     ]
    },
    {
     "name": "stdout",
     "output_type": "stream",
     "text": [
      "\b \b\\"
     ]
    },
    {
     "name": "stdout",
     "output_type": "stream",
     "text": [
      "\b \b|"
     ]
    },
    {
     "name": "stdout",
     "output_type": "stream",
     "text": [
      "\b \b/"
     ]
    },
    {
     "name": "stdout",
     "output_type": "stream",
     "text": [
      "\b \b-"
     ]
    },
    {
     "name": "stdout",
     "output_type": "stream",
     "text": [
      "\b \b\\"
     ]
    },
    {
     "name": "stdout",
     "output_type": "stream",
     "text": [
      "\b \b|"
     ]
    },
    {
     "name": "stdout",
     "output_type": "stream",
     "text": [
      "\b \b/"
     ]
    },
    {
     "name": "stdout",
     "output_type": "stream",
     "text": [
      "\b \b-"
     ]
    },
    {
     "name": "stdout",
     "output_type": "stream",
     "text": [
      "\b \b\\"
     ]
    },
    {
     "name": "stdout",
     "output_type": "stream",
     "text": [
      "\b \b|"
     ]
    },
    {
     "name": "stdout",
     "output_type": "stream",
     "text": [
      "\b \b/"
     ]
    },
    {
     "name": "stdout",
     "output_type": "stream",
     "text": [
      "\b \b-"
     ]
    },
    {
     "name": "stdout",
     "output_type": "stream",
     "text": [
      "\b \b\\"
     ]
    },
    {
     "name": "stdout",
     "output_type": "stream",
     "text": [
      "\b \b|"
     ]
    },
    {
     "name": "stdout",
     "output_type": "stream",
     "text": [
      "\b \b/"
     ]
    },
    {
     "name": "stdout",
     "output_type": "stream",
     "text": [
      "\b \b-"
     ]
    },
    {
     "name": "stdout",
     "output_type": "stream",
     "text": [
      "\b \b\\"
     ]
    },
    {
     "name": "stdout",
     "output_type": "stream",
     "text": [
      "\b \b|"
     ]
    },
    {
     "name": "stdout",
     "output_type": "stream",
     "text": [
      "\b \b/"
     ]
    },
    {
     "name": "stdout",
     "output_type": "stream",
     "text": [
      "\b \b-"
     ]
    },
    {
     "name": "stdout",
     "output_type": "stream",
     "text": [
      "\b \b\\"
     ]
    },
    {
     "name": "stdout",
     "output_type": "stream",
     "text": [
      "\b \b|"
     ]
    },
    {
     "name": "stdout",
     "output_type": "stream",
     "text": [
      "\b \b/"
     ]
    },
    {
     "name": "stdout",
     "output_type": "stream",
     "text": [
      "\b \b-"
     ]
    },
    {
     "name": "stdout",
     "output_type": "stream",
     "text": [
      "\b \b\\"
     ]
    },
    {
     "name": "stdout",
     "output_type": "stream",
     "text": [
      "\b \b|"
     ]
    },
    {
     "name": "stdout",
     "output_type": "stream",
     "text": [
      "\b \b/"
     ]
    },
    {
     "name": "stdout",
     "output_type": "stream",
     "text": [
      "\b \b-"
     ]
    },
    {
     "name": "stdout",
     "output_type": "stream",
     "text": [
      "\b \b\\"
     ]
    },
    {
     "name": "stdout",
     "output_type": "stream",
     "text": [
      "\b \b|"
     ]
    },
    {
     "name": "stdout",
     "output_type": "stream",
     "text": [
      "\b \b/"
     ]
    },
    {
     "name": "stdout",
     "output_type": "stream",
     "text": [
      "\b \b-"
     ]
    },
    {
     "name": "stdout",
     "output_type": "stream",
     "text": [
      "\b \b\\"
     ]
    },
    {
     "name": "stdout",
     "output_type": "stream",
     "text": [
      "\b \b|"
     ]
    },
    {
     "name": "stdout",
     "output_type": "stream",
     "text": [
      "\b \b/"
     ]
    },
    {
     "name": "stdout",
     "output_type": "stream",
     "text": [
      "\b \b-"
     ]
    },
    {
     "name": "stdout",
     "output_type": "stream",
     "text": [
      "\b \b\\"
     ]
    },
    {
     "name": "stdout",
     "output_type": "stream",
     "text": [
      "\b \b|"
     ]
    },
    {
     "name": "stdout",
     "output_type": "stream",
     "text": [
      "\b \b/"
     ]
    },
    {
     "name": "stdout",
     "output_type": "stream",
     "text": [
      "\b \b-"
     ]
    },
    {
     "name": "stdout",
     "output_type": "stream",
     "text": [
      "\b \b\\"
     ]
    },
    {
     "name": "stdout",
     "output_type": "stream",
     "text": [
      "\b \b|"
     ]
    },
    {
     "name": "stdout",
     "output_type": "stream",
     "text": [
      "\b \b/"
     ]
    },
    {
     "name": "stdout",
     "output_type": "stream",
     "text": [
      "\b \b-"
     ]
    },
    {
     "name": "stdout",
     "output_type": "stream",
     "text": [
      "\b \b\\"
     ]
    },
    {
     "name": "stdout",
     "output_type": "stream",
     "text": [
      "\b \b|"
     ]
    },
    {
     "name": "stdout",
     "output_type": "stream",
     "text": [
      "\b \b/"
     ]
    },
    {
     "name": "stdout",
     "output_type": "stream",
     "text": [
      "\b \b-"
     ]
    },
    {
     "name": "stdout",
     "output_type": "stream",
     "text": [
      "\b \b\\"
     ]
    },
    {
     "name": "stdout",
     "output_type": "stream",
     "text": [
      "\b \b|"
     ]
    },
    {
     "name": "stdout",
     "output_type": "stream",
     "text": [
      "\b \b/"
     ]
    },
    {
     "name": "stdout",
     "output_type": "stream",
     "text": [
      "\b \b-"
     ]
    },
    {
     "name": "stdout",
     "output_type": "stream",
     "text": [
      "\b \b\\"
     ]
    },
    {
     "name": "stdout",
     "output_type": "stream",
     "text": [
      "\b \b|"
     ]
    },
    {
     "name": "stdout",
     "output_type": "stream",
     "text": [
      "\b \b/"
     ]
    },
    {
     "name": "stdout",
     "output_type": "stream",
     "text": [
      "\b \b-"
     ]
    },
    {
     "name": "stdout",
     "output_type": "stream",
     "text": [
      "\b \b\\"
     ]
    },
    {
     "name": "stdout",
     "output_type": "stream",
     "text": [
      "\b \b|"
     ]
    },
    {
     "name": "stdout",
     "output_type": "stream",
     "text": [
      "\b \b/"
     ]
    },
    {
     "name": "stdout",
     "output_type": "stream",
     "text": [
      "\b \b-"
     ]
    },
    {
     "name": "stdout",
     "output_type": "stream",
     "text": [
      "\b \b\\"
     ]
    },
    {
     "name": "stdout",
     "output_type": "stream",
     "text": [
      "\b \b|"
     ]
    },
    {
     "name": "stdout",
     "output_type": "stream",
     "text": [
      "\b \b/"
     ]
    },
    {
     "name": "stdout",
     "output_type": "stream",
     "text": [
      "\b \b-"
     ]
    },
    {
     "name": "stdout",
     "output_type": "stream",
     "text": [
      "\b \b\\"
     ]
    },
    {
     "name": "stdout",
     "output_type": "stream",
     "text": [
      "\b \b|"
     ]
    },
    {
     "name": "stdout",
     "output_type": "stream",
     "text": [
      "\b \b/"
     ]
    },
    {
     "name": "stdout",
     "output_type": "stream",
     "text": [
      "\b \b-"
     ]
    },
    {
     "name": "stdout",
     "output_type": "stream",
     "text": [
      "\b \b\\"
     ]
    },
    {
     "name": "stdout",
     "output_type": "stream",
     "text": [
      "\b \b|"
     ]
    },
    {
     "name": "stdout",
     "output_type": "stream",
     "text": [
      "\b \b/"
     ]
    },
    {
     "name": "stdout",
     "output_type": "stream",
     "text": [
      "\b \b-"
     ]
    },
    {
     "name": "stdout",
     "output_type": "stream",
     "text": [
      "\b \b\\"
     ]
    },
    {
     "name": "stdout",
     "output_type": "stream",
     "text": [
      "\b \b|"
     ]
    },
    {
     "name": "stdout",
     "output_type": "stream",
     "text": [
      "\b \b/"
     ]
    },
    {
     "name": "stdout",
     "output_type": "stream",
     "text": [
      "\b \b-"
     ]
    },
    {
     "name": "stdout",
     "output_type": "stream",
     "text": [
      "\b \b\\"
     ]
    },
    {
     "name": "stdout",
     "output_type": "stream",
     "text": [
      "\b \b|"
     ]
    },
    {
     "name": "stdout",
     "output_type": "stream",
     "text": [
      "\b \b/"
     ]
    },
    {
     "name": "stdout",
     "output_type": "stream",
     "text": [
      "\b \b-"
     ]
    },
    {
     "name": "stdout",
     "output_type": "stream",
     "text": [
      "\b \b\\"
     ]
    },
    {
     "name": "stdout",
     "output_type": "stream",
     "text": [
      "\b \b|"
     ]
    },
    {
     "name": "stdout",
     "output_type": "stream",
     "text": [
      "\b \b/"
     ]
    },
    {
     "name": "stdout",
     "output_type": "stream",
     "text": [
      "\b \b-"
     ]
    },
    {
     "name": "stdout",
     "output_type": "stream",
     "text": [
      "\b \b\\"
     ]
    },
    {
     "name": "stdout",
     "output_type": "stream",
     "text": [
      "\b \b|"
     ]
    },
    {
     "name": "stdout",
     "output_type": "stream",
     "text": [
      "\b \b/"
     ]
    },
    {
     "name": "stdout",
     "output_type": "stream",
     "text": [
      "\b \b-"
     ]
    },
    {
     "name": "stdout",
     "output_type": "stream",
     "text": [
      "\b \b\\"
     ]
    },
    {
     "name": "stdout",
     "output_type": "stream",
     "text": [
      "\b \b|"
     ]
    },
    {
     "name": "stdout",
     "output_type": "stream",
     "text": [
      "\b \b/"
     ]
    },
    {
     "name": "stdout",
     "output_type": "stream",
     "text": [
      "\b \b-"
     ]
    },
    {
     "name": "stdout",
     "output_type": "stream",
     "text": [
      "\b \b\\"
     ]
    },
    {
     "name": "stdout",
     "output_type": "stream",
     "text": [
      "\b \b|"
     ]
    },
    {
     "name": "stdout",
     "output_type": "stream",
     "text": [
      "\b \b/"
     ]
    },
    {
     "name": "stdout",
     "output_type": "stream",
     "text": [
      "\b \b-"
     ]
    },
    {
     "name": "stdout",
     "output_type": "stream",
     "text": [
      "\b \b\\"
     ]
    },
    {
     "name": "stdout",
     "output_type": "stream",
     "text": [
      "\b \b|"
     ]
    },
    {
     "name": "stdout",
     "output_type": "stream",
     "text": [
      "\b \b/"
     ]
    },
    {
     "name": "stdout",
     "output_type": "stream",
     "text": [
      "\b \b-"
     ]
    },
    {
     "name": "stdout",
     "output_type": "stream",
     "text": [
      "\b \b\\"
     ]
    },
    {
     "name": "stdout",
     "output_type": "stream",
     "text": [
      "\b \b|"
     ]
    },
    {
     "name": "stdout",
     "output_type": "stream",
     "text": [
      "\b \b/"
     ]
    },
    {
     "name": "stdout",
     "output_type": "stream",
     "text": [
      "\b \b-"
     ]
    },
    {
     "name": "stdout",
     "output_type": "stream",
     "text": [
      "\b \b\\"
     ]
    },
    {
     "name": "stdout",
     "output_type": "stream",
     "text": [
      "\b \b|"
     ]
    },
    {
     "name": "stdout",
     "output_type": "stream",
     "text": [
      "\b \b/"
     ]
    },
    {
     "name": "stdout",
     "output_type": "stream",
     "text": [
      "\b \b-"
     ]
    },
    {
     "name": "stdout",
     "output_type": "stream",
     "text": [
      "\b \b\\"
     ]
    },
    {
     "name": "stdout",
     "output_type": "stream",
     "text": [
      "\b \b|"
     ]
    },
    {
     "name": "stdout",
     "output_type": "stream",
     "text": [
      "\b \b/"
     ]
    },
    {
     "name": "stdout",
     "output_type": "stream",
     "text": [
      "\b \b-"
     ]
    },
    {
     "name": "stdout",
     "output_type": "stream",
     "text": [
      "\b \b\\"
     ]
    },
    {
     "name": "stdout",
     "output_type": "stream",
     "text": [
      "\b \b|"
     ]
    },
    {
     "name": "stdout",
     "output_type": "stream",
     "text": [
      "\b \b/"
     ]
    },
    {
     "name": "stdout",
     "output_type": "stream",
     "text": [
      "\b \b-"
     ]
    },
    {
     "name": "stdout",
     "output_type": "stream",
     "text": [
      "\b \b\\"
     ]
    },
    {
     "name": "stdout",
     "output_type": "stream",
     "text": [
      "\b \b|"
     ]
    },
    {
     "name": "stdout",
     "output_type": "stream",
     "text": [
      "\b \b/"
     ]
    },
    {
     "name": "stdout",
     "output_type": "stream",
     "text": [
      "\b \b-"
     ]
    },
    {
     "name": "stdout",
     "output_type": "stream",
     "text": [
      "\b \b\\"
     ]
    },
    {
     "name": "stdout",
     "output_type": "stream",
     "text": [
      "\b \b|"
     ]
    },
    {
     "name": "stdout",
     "output_type": "stream",
     "text": [
      "\b \b/"
     ]
    },
    {
     "name": "stdout",
     "output_type": "stream",
     "text": [
      "\b \b-"
     ]
    },
    {
     "name": "stdout",
     "output_type": "stream",
     "text": [
      "\b \b\\"
     ]
    },
    {
     "name": "stdout",
     "output_type": "stream",
     "text": [
      "\b \b|"
     ]
    },
    {
     "name": "stdout",
     "output_type": "stream",
     "text": [
      "\b \b/"
     ]
    },
    {
     "name": "stdout",
     "output_type": "stream",
     "text": [
      "\b \b-"
     ]
    },
    {
     "name": "stdout",
     "output_type": "stream",
     "text": [
      "\b \b\\"
     ]
    },
    {
     "name": "stdout",
     "output_type": "stream",
     "text": [
      "\b \b|"
     ]
    },
    {
     "name": "stdout",
     "output_type": "stream",
     "text": [
      "\b \b/"
     ]
    },
    {
     "name": "stdout",
     "output_type": "stream",
     "text": [
      "\b \b-"
     ]
    },
    {
     "name": "stdout",
     "output_type": "stream",
     "text": [
      "\b \b\\"
     ]
    },
    {
     "name": "stdout",
     "output_type": "stream",
     "text": [
      "\b \b|"
     ]
    },
    {
     "name": "stdout",
     "output_type": "stream",
     "text": [
      "\b \b/"
     ]
    },
    {
     "name": "stdout",
     "output_type": "stream",
     "text": [
      "\b \b-"
     ]
    },
    {
     "name": "stdout",
     "output_type": "stream",
     "text": [
      "\b \b\\"
     ]
    },
    {
     "name": "stdout",
     "output_type": "stream",
     "text": [
      "\b \b|"
     ]
    },
    {
     "name": "stdout",
     "output_type": "stream",
     "text": [
      "\b \b/"
     ]
    },
    {
     "name": "stdout",
     "output_type": "stream",
     "text": [
      "\b \b-"
     ]
    },
    {
     "name": "stdout",
     "output_type": "stream",
     "text": [
      "\b \b\\"
     ]
    },
    {
     "name": "stdout",
     "output_type": "stream",
     "text": [
      "\b \b|"
     ]
    },
    {
     "name": "stdout",
     "output_type": "stream",
     "text": [
      "\b \b/"
     ]
    },
    {
     "name": "stdout",
     "output_type": "stream",
     "text": [
      "\b \b-"
     ]
    },
    {
     "name": "stdout",
     "output_type": "stream",
     "text": [
      "\b \b\\"
     ]
    },
    {
     "name": "stdout",
     "output_type": "stream",
     "text": [
      "\b \b|"
     ]
    },
    {
     "name": "stdout",
     "output_type": "stream",
     "text": [
      "\b \b/"
     ]
    },
    {
     "name": "stdout",
     "output_type": "stream",
     "text": [
      "\b \b-"
     ]
    },
    {
     "name": "stdout",
     "output_type": "stream",
     "text": [
      "\b \b\\"
     ]
    },
    {
     "name": "stdout",
     "output_type": "stream",
     "text": [
      "\b \b|"
     ]
    },
    {
     "name": "stdout",
     "output_type": "stream",
     "text": [
      "\b \b/"
     ]
    },
    {
     "name": "stdout",
     "output_type": "stream",
     "text": [
      "\b \b-"
     ]
    },
    {
     "name": "stdout",
     "output_type": "stream",
     "text": [
      "\b \b\\"
     ]
    },
    {
     "name": "stdout",
     "output_type": "stream",
     "text": [
      "\b \b|"
     ]
    },
    {
     "name": "stdout",
     "output_type": "stream",
     "text": [
      "\b \b/"
     ]
    },
    {
     "name": "stdout",
     "output_type": "stream",
     "text": [
      "\b \b-"
     ]
    },
    {
     "name": "stdout",
     "output_type": "stream",
     "text": [
      "\b \b\\"
     ]
    },
    {
     "name": "stdout",
     "output_type": "stream",
     "text": [
      "\b \b|"
     ]
    },
    {
     "name": "stdout",
     "output_type": "stream",
     "text": [
      "\b \b/"
     ]
    },
    {
     "name": "stdout",
     "output_type": "stream",
     "text": [
      "\b \b-"
     ]
    },
    {
     "name": "stdout",
     "output_type": "stream",
     "text": [
      "\b \b\\"
     ]
    },
    {
     "name": "stdout",
     "output_type": "stream",
     "text": [
      "\b \b|"
     ]
    },
    {
     "name": "stdout",
     "output_type": "stream",
     "text": [
      "\b \b/"
     ]
    },
    {
     "name": "stdout",
     "output_type": "stream",
     "text": [
      "\b \b-"
     ]
    },
    {
     "name": "stdout",
     "output_type": "stream",
     "text": [
      "\b \b\\"
     ]
    },
    {
     "name": "stdout",
     "output_type": "stream",
     "text": [
      "\b \b|"
     ]
    },
    {
     "name": "stdout",
     "output_type": "stream",
     "text": [
      "\b \b/"
     ]
    },
    {
     "name": "stdout",
     "output_type": "stream",
     "text": [
      "\b \b-"
     ]
    },
    {
     "name": "stdout",
     "output_type": "stream",
     "text": [
      "\b \b\\"
     ]
    },
    {
     "name": "stdout",
     "output_type": "stream",
     "text": [
      "\b \b|"
     ]
    },
    {
     "name": "stdout",
     "output_type": "stream",
     "text": [
      "\b \b/"
     ]
    },
    {
     "name": "stdout",
     "output_type": "stream",
     "text": [
      "\b \b-"
     ]
    },
    {
     "name": "stdout",
     "output_type": "stream",
     "text": [
      "\b \b\\"
     ]
    },
    {
     "name": "stdout",
     "output_type": "stream",
     "text": [
      "\b \b|"
     ]
    },
    {
     "name": "stdout",
     "output_type": "stream",
     "text": [
      "\b \b/"
     ]
    },
    {
     "name": "stdout",
     "output_type": "stream",
     "text": [
      "^C\r\n",
      "\u001b[?25h\b \bcanceled\r\n",
      "\u001b[31mERROR: Operation cancelled by user\u001b[0m\u001b[31m\r\n",
      "\u001b[0m"
     ]
    },
    {
     "name": "stdout",
     "output_type": "stream",
     "text": [
      "Requirement already satisfied: matplotlib in /Users/jmwolterink/opt/anaconda3/envs/notebook_collaboration/lib/python3.7/site-packages (3.5.3)\r\n",
      "Requirement already satisfied: python-dateutil>=2.7 in /Users/jmwolterink/opt/anaconda3/envs/notebook_collaboration/lib/python3.7/site-packages (from matplotlib) (2.8.2)\r\n",
      "Requirement already satisfied: pyparsing>=2.2.1 in /Users/jmwolterink/opt/anaconda3/envs/notebook_collaboration/lib/python3.7/site-packages (from matplotlib) (3.0.9)\r\n",
      "Requirement already satisfied: packaging>=20.0 in /Users/jmwolterink/opt/anaconda3/envs/notebook_collaboration/lib/python3.7/site-packages (from matplotlib) (22.0)\r\n",
      "Requirement already satisfied: pillow>=6.2.0 in /Users/jmwolterink/opt/anaconda3/envs/notebook_collaboration/lib/python3.7/site-packages (from matplotlib) (9.4.0)\r\n"
     ]
    },
    {
     "name": "stdout",
     "output_type": "stream",
     "text": [
      "Requirement already satisfied: kiwisolver>=1.0.1 in /Users/jmwolterink/opt/anaconda3/envs/notebook_collaboration/lib/python3.7/site-packages (from matplotlib) (1.4.4)\r\n",
      "Requirement already satisfied: cycler>=0.10 in /Users/jmwolterink/opt/anaconda3/envs/notebook_collaboration/lib/python3.7/site-packages (from matplotlib) (0.11.0)\r\n",
      "Requirement already satisfied: fonttools>=4.22.0 in /Users/jmwolterink/opt/anaconda3/envs/notebook_collaboration/lib/python3.7/site-packages (from matplotlib) (4.25.0)\r\n",
      "Requirement already satisfied: numpy>=1.17 in /Users/jmwolterink/opt/anaconda3/envs/notebook_collaboration/lib/python3.7/site-packages (from matplotlib) (1.21.5)\r\n",
      "Requirement already satisfied: typing-extensions in /Users/jmwolterink/opt/anaconda3/envs/notebook_collaboration/lib/python3.7/site-packages (from kiwisolver>=1.0.1->matplotlib) (4.4.0)\r\n",
      "Requirement already satisfied: six>=1.5 in /Users/jmwolterink/opt/anaconda3/envs/notebook_collaboration/lib/python3.7/site-packages (from python-dateutil>=2.7->matplotlib) (1.16.0)\r\n"
     ]
    }
   ],
   "source": [
    "!pip install SimpleITK\n",
    "!pip install matplotlib"
   ]
  },
  {
   "cell_type": "markdown",
   "id": "779cabff",
   "metadata": {},
   "source": [
    "After that, we can import each pakage. This allows us to (significantly) extend the functionality of Python. Instead of just using its built-in functions, we now have access to a whole range of additional classes and functions."
   ]
  },
  {
   "cell_type": "code",
   "execution_count": null,
   "id": "31410c2b",
   "metadata": {
    "pycharm": {
     "name": "#%%\n"
    }
   },
   "outputs": [],
   "source": [
    "import SimpleITK as sitk\n",
    "import numpy as np\n",
    "import matplotlib.pyplot as plt\n",
    "import os"
   ]
  },
  {
   "cell_type": "markdown",
   "id": "316250d6",
   "metadata": {
    "pycharm": {
     "name": "#%% md\n"
    }
   },
   "source": [
    "## Loading an image\n",
    "We first load an image that is stored in MetaImage format. In this format, an image always consists of two files: one header file (.mhd) that contains the image information, and one data file (.raw or .zraw) that contains the actual image data. The header file is human readable. We can print its contents here. Take a look at the attributes that are included in the meta information for a typical image."
   ]
  },
  {
   "cell_type": "code",
   "execution_count": null,
   "id": "cb33ad94",
   "metadata": {
    "pycharm": {
     "name": "#%%\n"
    }
   },
   "outputs": [],
   "source": [
    "image_file = os.path.join(data_path, r'TEV1P1CTI.mhd')  \n",
    "\n",
    "with open(image_file) as f:\n",
    "    for line in f:\n",
    "        print(line.strip())"
   ]
  },
  {
   "cell_type": "markdown",
   "id": "79d9c930",
   "metadata": {
    "pycharm": {
     "name": "#%% md\n"
    }
   },
   "source": [
    "<div style='background-color:rgba(80,255,80,0.4); padding:20px'>\n",
    "  ❓ <b>Question</b>:  Can you infer from this header information if this a 2D or 3D image?\n",
    "</div>"
   ]
  },
  {
   "cell_type": "code",
   "execution_count": null,
   "id": "efa341ba",
   "metadata": {
    "lines_to_next_cell": 2,
    "tags": [
     "student"
    ]
   },
   "outputs": [],
   "source": []
  },
  {
   "cell_type": "markdown",
   "id": "bee453d5",
   "metadata": {
    "pycharm": {
     "name": "#%% md\n"
    }
   },
   "source": [
    "There are all kinds of tags in this header file that are relevant for the way in which the image is read. However, the nice thing is that we can also directly read this header file into a SimpleITK <code>Image</code> object. The image reader will read all meta information into the <code>Image</code> object and also load the pixel values from the data file."
   ]
  },
  {
   "cell_type": "code",
   "execution_count": null,
   "id": "a441652c",
   "metadata": {
    "pycharm": {
     "name": "#%%\n"
    }
   },
   "outputs": [],
   "source": [
    "image = sitk.ReadImage(image_file)"
   ]
  },
  {
   "cell_type": "markdown",
   "id": "74967925",
   "metadata": {
    "pycharm": {
     "name": "#%% md\n"
    }
   },
   "source": [
    "You can then use methods in this object to retrieve the properties that are in the header file. For example using the following queries."
   ]
  },
  {
   "cell_type": "code",
   "execution_count": null,
   "id": "ffb01dc1",
   "metadata": {
    "pycharm": {
     "name": "#%%\n"
    }
   },
   "outputs": [],
   "source": [
    "print(image.GetSize())\n",
    "print(image.GetOrigin())\n",
    "print(image.GetSpacing())\n",
    "print(image.GetDirection())"
   ]
  },
  {
   "cell_type": "markdown",
   "id": "5ff6887b",
   "metadata": {
    "pycharm": {
     "name": "#%% md\n"
    }
   },
   "source": [
    "Now we know that the image has a particular size, we can also find the value of a pixel in that image. For this, we can use the <code>GetPixel</code> method, and we can use <code>SetPixel</code> to change values."
   ]
  },
  {
   "cell_type": "code",
   "execution_count": null,
   "id": "8f083ba9",
   "metadata": {
    "pycharm": {
     "name": "#%%\n"
    }
   },
   "outputs": [],
   "source": [
    "print(image.GetPixel(100, 100, 10))"
   ]
  },
  {
   "cell_type": "code",
   "execution_count": null,
   "id": "920d172d",
   "metadata": {
    "pycharm": {
     "name": "#%%\n"
    }
   },
   "outputs": [],
   "source": [
    "image.SetPixel(100, 100, 10, 0)"
   ]
  },
  {
   "cell_type": "markdown",
   "id": "5fa5d931",
   "metadata": {
    "pycharm": {
     "name": "#%% md\n"
    }
   },
   "source": [
    "Of course, setting and getting individual pixels is all quite cumbersome and this is not the optimal way to work with the 3D image matrix. Luckily, we can also read the raw pixel values into a NumPy array. For this, we use the <code>GetArrayFromImage</code> method."
   ]
  },
  {
   "cell_type": "code",
   "execution_count": null,
   "id": "8b30c9d6",
   "metadata": {
    "pycharm": {
     "name": "#%%\n"
    }
   },
   "outputs": [],
   "source": [
    "image_array = sitk.GetArrayFromImage(image)"
   ]
  },
  {
   "cell_type": "markdown",
   "id": "2a633595",
   "metadata": {
    "pycharm": {
     "name": "#%% md\n"
    }
   },
   "source": [
    "This is where things become a little bit tricky. If you print the shape of the <code>image_array</code> array, you will see that it doesn't match that of the SimpleITK Image."
   ]
  },
  {
   "cell_type": "code",
   "execution_count": null,
   "id": "4feb8ea1",
   "metadata": {
    "pycharm": {
     "name": "#%%\n"
    }
   },
   "outputs": [],
   "source": [
    "print(image_array.shape)"
   ]
  },
  {
   "cell_type": "markdown",
   "id": "0e541642",
   "metadata": {
    "pycharm": {
     "name": "#%% md\n"
    }
   },
   "source": [
    "While (Simple)ITK orders images as <code>(x, y, z)</code>, NumPy orders arrays as <code>(z, y, x)</code>. This is something to keep in mind and you can do two things: \n",
    "- Just accept it and index your NumPy arrays in order <code>(z, y, x)</code>.\n",
    "- After you get your array, swap the x and y axes as follows"
   ]
  },
  {
   "cell_type": "code",
   "execution_count": null,
   "id": "b762e531",
   "metadata": {
    "pycharm": {
     "name": "#%%\n"
    }
   },
   "outputs": [],
   "source": [
    "image_array = np.swapaxes(image_array, 0, 2)"
   ]
  },
  {
   "cell_type": "markdown",
   "id": "95d6a021",
   "metadata": {
    "pycharm": {
     "name": "#%% md\n"
    }
   },
   "source": [
    "<div style='background-color:rgba(80,255,80,0.4); padding:20px'>\n",
    "    ❓ <b>Question</b>:  What is the new shape of <code>image_array</code>?\n",
    "</div>"
   ]
  },
  {
   "cell_type": "code",
   "execution_count": null,
   "id": "02e4c0f9",
   "metadata": {
    "lines_to_next_cell": 2,
    "tags": [
     "student"
    ]
   },
   "outputs": [],
   "source": []
  },
  {
   "cell_type": "markdown",
   "id": "06032c20",
   "metadata": {
    "pycharm": {
     "name": "#%% md\n"
    }
   },
   "source": [
    "### Physical voxel size\n",
    "The image that you have loaded has some peculiarities. It is a CT image of the heart which has been acquired with (relatively) thick slices. \n",
    "\n",
    "<div style='background-color:rgba(80,255,80,0.4); padding:20px'>\n",
    "❓ <b>Question</b>:  Can you determine - based on the functions that you've seen here - what the ratio is between the slice spacing and the in-plane resolution?\n",
    "</div>"
   ]
  },
  {
   "cell_type": "code",
   "execution_count": null,
   "id": "96ef01da",
   "metadata": {
    "lines_to_next_cell": 2,
    "tags": [
     "student"
    ]
   },
   "outputs": [],
   "source": []
  },
  {
   "cell_type": "markdown",
   "id": "d5ff249b",
   "metadata": {
    "pycharm": {
     "name": "#%% md\n"
    }
   },
   "source": [
    "<div style='background-color:rgba(80,255,80,0.4); padding:20px'>\n",
    "❓ <b>Question</b>:  What is the volume (in ml) of a single voxel in the image?\n",
    "</div>"
   ]
  },
  {
   "cell_type": "code",
   "execution_count": null,
   "id": "b59c7350",
   "metadata": {
    "lines_to_next_cell": 2,
    "tags": [
     "student"
    ]
   },
   "outputs": [],
   "source": []
  },
  {
   "cell_type": "markdown",
   "id": "77708e5d",
   "metadata": {
    "pycharm": {
     "name": "#%% md\n"
    }
   },
   "source": [
    "## Visualizing an image \n",
    "So far, we have only considered the medical image as a 3D matrix, but we would also like to visualize it. Neither SimpleITK or NumPy provides functions to do this because that's not their purpose. We can, however, use Matplotlib to visualize the NumPy array that we now have. Matplotlib provides a wide range of functionality and it will take you a long time to fully appreciate everything it offers. For now, we will look at some key functions that will help you in this course.\n",
    "\n",
    "The code below plots a sine wave on 100 values between 0 and 20."
   ]
  },
  {
   "cell_type": "code",
   "execution_count": null,
   "id": "0c33106e",
   "metadata": {
    "pycharm": {
     "name": "#%%\n"
    }
   },
   "outputs": [],
   "source": [
    "import matplotlib.pyplot as plt\n",
    "\n",
    "fig = plt.figure()\n",
    "x = np.linspace(0, 20, 100)\n",
    "y = np.sin(x)\n",
    "plt.plot(x, y)\n",
    "plt.show()"
   ]
  },
  {
   "cell_type": "markdown",
   "id": "2067b6b2",
   "metadata": {
    "pycharm": {
     "name": "#%% md\n"
    }
   },
   "source": [
    "Matplotlib has many functions to display data. For images as 2D matrices, it doesn't use the <code>plot</code> function, but the <code>imshow</code> function. If we visualize the 21st slice in our 64-slice CT image, we get the following image."
   ]
  },
  {
   "cell_type": "code",
   "execution_count": null,
   "id": "3d265f4b",
   "metadata": {
    "pycharm": {
     "name": "#%%\n"
    }
   },
   "outputs": [],
   "source": [
    "plt.figure()\n",
    "plt.imshow(image_array[:, :, 20])\n",
    "plt.show()"
   ]
  },
  {
   "cell_type": "markdown",
   "id": "9cffb28d",
   "metadata": {
    "pycharm": {
     "name": "#%% md\n"
    }
   },
   "source": [
    "Now we see what's actually in the image. It's a CT scan of a heart, where we see (on the left) the chest wall, in the center the heart, and on the right the spine. Surrounding the heart is lung tissue. However, if you would show the image like this to a radiologist, they would be confused. First of all, they are used to seeing CT images in grayscale. We can fix that by changing the [Matplotlib colormap](https://matplotlib.org/stable/tutorials/colors/colormaps.html) to <code>gray</code>. "
   ]
  },
  {
   "cell_type": "code",
   "execution_count": null,
   "id": "7850df96",
   "metadata": {
    "pycharm": {
     "name": "#%%\n"
    }
   },
   "outputs": [],
   "source": [
    "plt.figure()\n",
    "plt.imshow(image_array[:, :, 20], cmap = 'gray')\n",
    "plt.show()"
   ]
  },
  {
   "cell_type": "markdown",
   "id": "d8241993",
   "metadata": {
    "pycharm": {
     "name": "#%% md\n"
    }
   },
   "source": [
    "A second problem is that the image is rotated 90 degrees counterclockwise. This is because when talking about images, we typically use different axes than when talking about plots. For example, coordinate (20, 10) in an image means 21st row (remember we start counting at 0), 11th column. In a plot, it would mean 21st *column*, 11th *row*. So to fix that, we need to swap axes in our visualization. Because the image slice is a 2D matrix, we can just use <code>transpose</code>"
   ]
  },
  {
   "cell_type": "code",
   "execution_count": null,
   "id": "b18b34aa",
   "metadata": {
    "pycharm": {
     "name": "#%%\n"
    }
   },
   "outputs": [],
   "source": [
    "plt.figure()\n",
    "plt.imshow(image_array[:, :, 20].transpose(), cmap='gray')\n",
    "plt.show()"
   ]
  },
  {
   "cell_type": "markdown",
   "id": "89c33b6c",
   "metadata": {
    "pycharm": {
     "name": "#%% md\n"
    }
   },
   "source": [
    "That's more like it! Now, you may notice that the image does not show a lot of contrast. First of all, let's see which image values are present in the image."
   ]
  },
  {
   "cell_type": "code",
   "execution_count": null,
   "id": "06f6a75d",
   "metadata": {
    "pycharm": {
     "name": "#%%\n"
    }
   },
   "outputs": [],
   "source": [
    "plt.figure()\n",
    "plt.hist(image_array[:, :, 20].flatten(), bins=50)\n",
    "plt.xlabel('Hounsfield unit')\n",
    "plt.ylabel('Count')\n",
    "plt.show()"
   ]
  },
  {
   "cell_type": "markdown",
   "id": "7f46b71a",
   "metadata": {
    "pycharm": {
     "name": "#%% md\n"
    }
   },
   "source": [
    "### Image intensities\n",
    "\n",
    "The histogram shows a wide range of image intensities ([Hounsfield units](https://en.wikipedia.org/wiki/Hounsfield_scale)) in the image. For visualization, you might only be interested in values between 0 and 100.There are several ways to focus on different parts of the image. \n",
    "- You can change the values in the image using something like <code>image_array = np.clip(image_array, 0, 100)</code>\n",
    "- You can use the <code>vmin</code> and <code>vmax</code> options to limit the range of visible values. \n",
    "The latter option is preferable as it doesn't change the data."
   ]
  },
  {
   "cell_type": "code",
   "execution_count": null,
   "id": "e29d40d9",
   "metadata": {
    "pycharm": {
     "name": "#%%\n"
    }
   },
   "outputs": [],
   "source": [
    "plt.figure()\n",
    "plt.imshow(image_array[:, :, 20].transpose(), cmap='gray', vmin=0, vmax=100)\n",
    "plt.show()"
   ]
  },
  {
   "cell_type": "markdown",
   "id": "48ed42f5",
   "metadata": {
    "pycharm": {
     "name": "#%% md\n"
    }
   },
   "source": [
    "<div style='background-color:rgba(80,255,80,0.4); padding:20px'>\n",
    "❓ <b>Question</b>:  A reasonable range for non-contrast cardiac CT images is between -300 and 450. Visualize the image with these limits.\n",
    "</div>"
   ]
  },
  {
   "cell_type": "code",
   "execution_count": null,
   "id": "8858790e",
   "metadata": {
    "lines_to_next_cell": 2,
    "tags": [
     "student"
    ]
   },
   "outputs": [],
   "source": []
  },
  {
   "cell_type": "markdown",
   "id": "81a421a7",
   "metadata": {
    "pycharm": {
     "name": "#%% md\n"
    }
   },
   "source": [
    "<div style='background-color:rgba(80,255,80,0.4); padding:20px'>\n",
    "❓ <b>Question</b>: The image that we have just visualized is an *axial* image slice. Can you also visualize a *sagittal* and a *coronal* image slice of the same 3D volume? Use the <a href=\"https://matplotlib.org/3.5.0/api/_as_gen/matplotlib.pyplot.imshow.html\"><code>aspect</code></a> option in matplotlib to correct for the anisotropic pixel size.\n",
    "</div>"
   ]
  },
  {
   "cell_type": "code",
   "execution_count": null,
   "id": "d2b1f145",
   "metadata": {
    "lines_to_next_cell": 2,
    "tags": [
     "student"
    ]
   },
   "outputs": [],
   "source": []
  },
  {
   "cell_type": "markdown",
   "id": "7ace10f3",
   "metadata": {},
   "source": [
    "## MeVisLab\n",
    "This is the end of this first Jupyter notebook. Notebooks are great for interactive Python programming, but not for medical image visualization. We have put a tutorial online to get started with MeVisLab. Follow this tutorial to visualize 3D medical images in an interactive way!\n",
    "\n",
    "<img src='https://i.imgur.com/W0ZYWg0.png'></img>"
   ]
  }
 ],
 "metadata": {
  "kernelspec": {
   "display_name": "Python 3 (ipykernel)",
   "language": "python",
   "name": "python3"
  },
  "language_info": {
   "codemirror_mode": {
    "name": "ipython",
    "version": 3
   },
   "file_extension": ".py",
   "mimetype": "text/x-python",
   "name": "python",
   "nbconvert_exporter": "python",
   "pygments_lexer": "ipython3",
   "version": "3.7.16"
  }
 },
 "nbformat": 4,
 "nbformat_minor": 5
}